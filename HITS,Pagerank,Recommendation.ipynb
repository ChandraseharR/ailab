{
  "nbformat": 4,
  "nbformat_minor": 0,
  "metadata": {
    "colab": {
      "provenance": [],
      "authorship_tag": "ABX9TyPJ+w9s4dDdpmKuSb/tP+0P",
      "include_colab_link": true
    },
    "kernelspec": {
      "name": "python3",
      "display_name": "Python 3"
    },
    "language_info": {
      "name": "python"
    }
  },
  "cells": [
    {
      "cell_type": "markdown",
      "metadata": {
        "id": "view-in-github",
        "colab_type": "text"
      },
      "source": [
        "<a href=\"https://colab.research.google.com/github/ChandraseharR/ailab/blob/main/HITS%2CPagerank%2CRecommendation.ipynb\" target=\"_parent\"><img src=\"https://colab.research.google.com/assets/colab-badge.svg\" alt=\"Open In Colab\"/></a>"
      ]
    },
    {
      "cell_type": "markdown",
      "source": [
        "\n",
        "HITS AND PAGERANK\n",
        "\n"
      ],
      "metadata": {
        "id": "-mIjPRkC86pW"
      }
    },
    {
      "cell_type": "code",
      "execution_count": 1,
      "metadata": {
        "id": "RZmqLwwG25_6"
      },
      "outputs": [],
      "source": [
        "outlinks = [\n",
        "    ('E', 'F', 0.25),\n",
        "    ('E', 'C', 0.35),\n",
        "    ('E', 'D', 0.7),\n",
        "    ('E', 'B', 0.6),\n",
        "    ('B', 'E', 0.5),\n",
        "    ('B', 'C', 0.32),\n",
        "    ('F', 'C', 0.79),\n",
        "    ('F', 'H', 0.85),\n",
        "    ('G', 'A', 0.2),\n",
        "    ('G', 'C', 0.12),\n",
        "    ('C', 'A', 0.37),\n",
        "    ('H', 'A', 0.64),\n",
        "    ('A', 'D', 0.29),\n",
        "    ('D', 'B', 0.85),\n",
        "    ('D', 'C', 0.2)]"
      ]
    },
    {
      "cell_type": "code",
      "source": [
        "def find_no_of_pages(outlinks):\n",
        "  lst=[]\n",
        "  for row in outlinks:\n",
        "    lst.append(row[0])\n",
        "  lst=sorted(list(set(lst)))\n",
        "  return lst"
      ],
      "metadata": {
        "id": "vAZW2T8_3NcM"
      },
      "execution_count": 2,
      "outputs": []
    },
    {
      "cell_type": "code",
      "source": [
        "def create_adj(pages,outlinks):\n",
        "  n=len(pages)\n",
        "  adj=[[0 for i in range(n)] for i in range(n)]\n",
        "  for row in outlinks:\n",
        "    adj[pages.index(row[0])][pages.index(row[1])]=1\n",
        "  return adj"
      ],
      "metadata": {
        "id": "KnYcZJIb3djo"
      },
      "execution_count": 3,
      "outputs": []
    },
    {
      "cell_type": "code",
      "source": [
        "import numpy as np\n",
        "def create_hyperlink(adj):\n",
        "  row_sum=np.sum(adj,axis=1,keepdims=True)\n",
        "  hyperlink=adj/row_sum\n",
        "  return hyperlink"
      ],
      "metadata": {
        "id": "g0xyg-0734RF"
      },
      "execution_count": 4,
      "outputs": []
    },
    {
      "cell_type": "code",
      "source": [
        "def create_g_mat(alpha,h_mat):\n",
        "  n=len(h_mat)\n",
        "  for i in range(n):\n",
        "    row=h_mat[i]\n",
        "    row_sum=sum(h_mat[i])\n",
        "    if row_sum==0:\n",
        "      h_mat[i]=[1/n]*n\n",
        "  return alpha*h_mat+(1-alpha)/n"
      ],
      "metadata": {
        "id": "-clA3rah4Ijv"
      },
      "execution_count": 5,
      "outputs": []
    },
    {
      "cell_type": "code",
      "source": [
        "def page_rank(g_mat):\n",
        "  n=len(g_mat)\n",
        "  prev_pr=np.zeros(n)\n",
        "  prev_pr[0]=1\n",
        "  ct=0\n",
        "\n",
        "  while ct<100:\n",
        "    ct+=1\n",
        "    cur_pr=np.dot(prev_pr,g_mat)\n",
        "    if np.linalg.norm(cur_pr - prev_pr)<1e-8:\n",
        "      print(ct)\n",
        "      return cur_pr\n",
        "    prev_pr=cur_pr"
      ],
      "metadata": {
        "id": "cy5jCPtr4yNy"
      },
      "execution_count": 6,
      "outputs": []
    },
    {
      "cell_type": "code",
      "source": [
        "def calc_hits(adj):\n",
        "  n=len(adj)\n",
        "  prev_hub=np.ones(n)\n",
        "  prev_auth=np.ones(n)\n",
        "  ct=0\n",
        "\n",
        "  while ct<100:\n",
        "    ct+=1\n",
        "\n",
        "    new_hub=np.dot(adj,prev_auth)\n",
        "    new_hub/=sum(new_hub)\n",
        "\n",
        "    new_auth=np.dot(adj.T,prev_hub)\n",
        "    new_auth/=sum(new_auth)\n",
        "\n",
        "    if np.linalg.norm(new_hub-prev_hub)<1e-8 and np.linalg.norm(new_auth-prev_auth)<1e-8:\n",
        "      print(ct)\n",
        "      return new_hub,new_auth\n",
        "    prev_hub,prev_auth=new_hub,new_auth"
      ],
      "metadata": {
        "id": "hy1Fyuqw5PcD"
      },
      "execution_count": 7,
      "outputs": []
    },
    {
      "cell_type": "code",
      "source": [
        "def principal_eigen(A):\n",
        "  eig_val,eig_vec=np.linalg.eig(A)\n",
        "  principal_eig_index=np.argmax(eig_val)\n",
        "  ev=eig_vec[:,principal_eig_index]\n",
        "  return np.divide(ev,sum(ev))"
      ],
      "metadata": {
        "id": "gY5jJNzZ6tQP"
      },
      "execution_count": 15,
      "outputs": []
    },
    {
      "cell_type": "code",
      "source": [
        "pages=find_no_of_pages(outlinks)\n",
        "pages"
      ],
      "metadata": {
        "colab": {
          "base_uri": "https://localhost:8080/"
        },
        "id": "EWV4zAVk7AEg",
        "outputId": "eef94603-722f-47de-ac08-bca1bf863fe1"
      },
      "execution_count": 9,
      "outputs": [
        {
          "output_type": "execute_result",
          "data": {
            "text/plain": [
              "['A', 'B', 'C', 'D', 'E', 'F', 'G', 'H']"
            ]
          },
          "metadata": {},
          "execution_count": 9
        }
      ]
    },
    {
      "cell_type": "code",
      "source": [
        "adj=create_adj(pages,outlinks)\n",
        "adj"
      ],
      "metadata": {
        "colab": {
          "base_uri": "https://localhost:8080/"
        },
        "id": "JBYkwHPK7GNR",
        "outputId": "59e6a342-31a2-4a4e-8720-62c5ce5524c5"
      },
      "execution_count": 11,
      "outputs": [
        {
          "output_type": "execute_result",
          "data": {
            "text/plain": [
              "[[0, 0, 0, 1, 0, 0, 0, 0],\n",
              " [0, 0, 1, 0, 1, 0, 0, 0],\n",
              " [1, 0, 0, 0, 0, 0, 0, 0],\n",
              " [0, 1, 1, 0, 0, 0, 0, 0],\n",
              " [0, 1, 1, 1, 0, 1, 0, 0],\n",
              " [0, 0, 1, 0, 0, 0, 0, 1],\n",
              " [1, 0, 1, 0, 0, 0, 0, 0],\n",
              " [1, 0, 0, 0, 0, 0, 0, 0]]"
            ]
          },
          "metadata": {},
          "execution_count": 11
        }
      ]
    },
    {
      "cell_type": "code",
      "source": [
        "h_mat=create_hyperlink(adj)\n",
        "h_mat"
      ],
      "metadata": {
        "colab": {
          "base_uri": "https://localhost:8080/"
        },
        "id": "gRwDsXcv7K5h",
        "outputId": "2400b552-250f-48d7-dc01-b6041b3c15a6"
      },
      "execution_count": 12,
      "outputs": [
        {
          "output_type": "execute_result",
          "data": {
            "text/plain": [
              "array([[0.  , 0.  , 0.  , 1.  , 0.  , 0.  , 0.  , 0.  ],\n",
              "       [0.  , 0.  , 0.5 , 0.  , 0.5 , 0.  , 0.  , 0.  ],\n",
              "       [1.  , 0.  , 0.  , 0.  , 0.  , 0.  , 0.  , 0.  ],\n",
              "       [0.  , 0.5 , 0.5 , 0.  , 0.  , 0.  , 0.  , 0.  ],\n",
              "       [0.  , 0.25, 0.25, 0.25, 0.  , 0.25, 0.  , 0.  ],\n",
              "       [0.  , 0.  , 0.5 , 0.  , 0.  , 0.  , 0.  , 0.5 ],\n",
              "       [0.5 , 0.  , 0.5 , 0.  , 0.  , 0.  , 0.  , 0.  ],\n",
              "       [1.  , 0.  , 0.  , 0.  , 0.  , 0.  , 0.  , 0.  ]])"
            ]
          },
          "metadata": {},
          "execution_count": 12
        }
      ]
    },
    {
      "cell_type": "code",
      "source": [
        "g_mat=create_g_mat(0.9,h_mat)\n",
        "g_mat"
      ],
      "metadata": {
        "colab": {
          "base_uri": "https://localhost:8080/"
        },
        "id": "hwIpZXcC7UUQ",
        "outputId": "5caf3c2a-0f0d-484e-c25a-59f8c3c5eee3"
      },
      "execution_count": 13,
      "outputs": [
        {
          "output_type": "execute_result",
          "data": {
            "text/plain": [
              "array([[0.0125, 0.0125, 0.0125, 0.9125, 0.0125, 0.0125, 0.0125, 0.0125],\n",
              "       [0.0125, 0.0125, 0.4625, 0.0125, 0.4625, 0.0125, 0.0125, 0.0125],\n",
              "       [0.9125, 0.0125, 0.0125, 0.0125, 0.0125, 0.0125, 0.0125, 0.0125],\n",
              "       [0.0125, 0.4625, 0.4625, 0.0125, 0.0125, 0.0125, 0.0125, 0.0125],\n",
              "       [0.0125, 0.2375, 0.2375, 0.2375, 0.0125, 0.2375, 0.0125, 0.0125],\n",
              "       [0.0125, 0.0125, 0.4625, 0.0125, 0.0125, 0.0125, 0.0125, 0.4625],\n",
              "       [0.4625, 0.0125, 0.4625, 0.0125, 0.0125, 0.0125, 0.0125, 0.0125],\n",
              "       [0.9125, 0.0125, 0.0125, 0.0125, 0.0125, 0.0125, 0.0125, 0.0125]])"
            ]
          },
          "metadata": {},
          "execution_count": 13
        }
      ]
    },
    {
      "cell_type": "code",
      "source": [
        "pr1=page_rank(g_mat)\n",
        "pr2=principal_eigen(g_mat.T)\n",
        "k=3\n",
        "top_pages=np.argsort(pr2)[::-1][:k]\n",
        "pr1,pr2,top_pages"
      ],
      "metadata": {
        "colab": {
          "base_uri": "https://localhost:8080/"
        },
        "id": "BxsjCMSr7bUz",
        "outputId": "70962472-b8ab-4687-a897-abd9b2d109de"
      },
      "execution_count": 17,
      "outputs": [
        {
          "output_type": "stream",
          "name": "stdout",
          "text": [
            "60\n"
          ]
        },
        {
          "output_type": "execute_result",
          "data": {
            "text/plain": [
              "(array([0.24278768, 0.14127274, 0.22379784, 0.24812528, 0.07607273,\n",
              "        0.02961637, 0.0125    , 0.02582736]),\n",
              " array([0.24278768+0.j, 0.14127274+0.j, 0.22379784+0.j, 0.24812528+0.j,\n",
              "        0.07607273+0.j, 0.02961636+0.j, 0.0125    +0.j, 0.02582736+0.j]),\n",
              " array([3, 0, 2]))"
            ]
          },
          "metadata": {},
          "execution_count": 17
        }
      ]
    },
    {
      "cell_type": "code",
      "source": [
        "A=np.array(adj)\n",
        "hub1,auth1=calc_hits(A)\n",
        "hub2,auth2=principal_eigen(np.matmul(A,A.T)),principal_eigen(np.matmul(A.T,A))\n",
        "hub1,hub2,auth1,auth2"
      ],
      "metadata": {
        "colab": {
          "base_uri": "https://localhost:8080/"
        },
        "id": "FsBInfO17sS_",
        "outputId": "e0f88e5c-30ab-4566-e60a-adac33915958"
      },
      "execution_count": 18,
      "outputs": [
        {
          "output_type": "stream",
          "name": "stdout",
          "text": [
            "42\n"
          ]
        },
        {
          "output_type": "execute_result",
          "data": {
            "text/plain": [
              "(array([0.04305011, 0.14444089, 0.02950849, 0.187491  , 0.2676258 ,\n",
              "        0.14444089, 0.15393433, 0.02950849]),\n",
              " array([0.04305011, 0.14444089, 0.02950849, 0.187491  , 0.2676258 ,\n",
              "        0.14444089, 0.15393432, 0.02950849]),\n",
              " array([0.08751959, 0.18704574, 0.3690361 , 0.12768284, 0.0593629 ,\n",
              "        0.10998993, 0.        , 0.0593629 ]),\n",
              " array([ 0.08751959,  0.18704574,  0.3690361 ,  0.12768284,  0.0593629 ,\n",
              "         0.10998993, -0.        ,  0.0593629 ]))"
            ]
          },
          "metadata": {},
          "execution_count": 18
        }
      ]
    },
    {
      "cell_type": "markdown",
      "source": [
        " RECOMMENDATION SYSTEM"
      ],
      "metadata": {
        "id": "GwN6Sk8F8tO9"
      }
    },
    {
      "cell_type": "code",
      "source": [
        "import numpy as np\n",
        "from enum import Enum"
      ],
      "metadata": {
        "id": "csFRyv3D8ewU"
      },
      "execution_count": 19,
      "outputs": []
    },
    {
      "cell_type": "code",
      "source": [
        "class Method(Enum):\n",
        "  USER='User'\n",
        "  ITEM='Item'\n",
        "\n",
        "class RecommendationSystem:\n",
        "  def __init__(self,ratings,method=Method.USER):\n",
        "    self.ratings=(np.array(ratings) if method==Method.USER else np.array(ratings).T)\n",
        "    self.num_rows,self.col_nums=self.ratings.shape\n",
        "    self.method=method\n",
        "\n",
        "  def cosine_similarity(self,vec1,vec2):\n",
        "    mask=(vec1!=-1) & (vec2!=-1)\n",
        "    vec1_masked=vec1[mask]\n",
        "    vec2_masked=vec2[mask]\n",
        "    norm1=np.linalg.norm(vec1_masked)\n",
        "    norm2=np.linalg.norm(vec2_masked)\n",
        "\n",
        "    if norm1==0 or norm2==0:\n",
        "      return 0\n",
        "    return np.dot(vec1_masked,vec2_masked)/(norm1*norm2)\n",
        "\n",
        "  def predict_ratings(self,user_id,item_id,k):\n",
        "    if self.method==Method.USER:\n",
        "      row_id=user_id\n",
        "      col_id=item_id\n",
        "    else:\n",
        "      row_id=item_id\n",
        "      col_id=user_id\n",
        "    ratings=self.ratings[row_id]\n",
        "    similarities=[]\n",
        "\n",
        "    for i in range(self.num_rows):\n",
        "      if i!=row_id:\n",
        "        other_ratings=self.ratings[i]\n",
        "        similarities.append((i,self.cosine_similarity(ratings,other_ratings)))\n",
        "    similarities.sort(key=lambda x:x[1],reverse=True)\n",
        "    top_k_similarities=similarities[:k]\n",
        "\n",
        "    weighted_sum=0\n",
        "    total_similarity=0\n",
        "\n",
        "    for id,similarity in top_k_similarities:\n",
        "      if self.ratings[id][col_id]!=-1:\n",
        "        weighted_sum+=similarity*self.ratings[id][col_id]\n",
        "        total_similarity+=similarity\n",
        "    if total_similarity==0:\n",
        "      return 0\n",
        "    return weighted_sum/total_similarity"
      ],
      "metadata": {
        "id": "kRmzesf89FL9"
      },
      "execution_count": 27,
      "outputs": []
    },
    {
      "cell_type": "code",
      "source": [
        "ratings = [\n",
        "    [5, 3, -1, -1, 2],\n",
        "    [4, -1, -1, 2, 1],\n",
        "    [1, 1, -1, 4, 5],\n",
        "    [-1, -1, 4, 3, -1],\n",
        "    [-1, -1, 4, 1, -1]\n",
        "]\n",
        "\n",
        "rs1=RecommendationSystem(ratings,Method.USER)\n",
        "prediction=rs1.predict_ratings(user_id=3,item_id=0,k=3)\n",
        "print(f\"Predicted Rating ({Method.USER}-based): \",prediction)\n",
        "\n",
        "rs2=RecommendationSystem(ratings,Method.USER)\n",
        "prediction=rs2.predict_ratings(user_id=0,item_id=4,k=3)\n",
        "print(f\"Predicted Rating ({Method.ITEM}-based): \",prediction)"
      ],
      "metadata": {
        "colab": {
          "base_uri": "https://localhost:8080/"
        },
        "id": "Q1e42wNHA5u2",
        "outputId": "e95cd0e6-2ad2-433c-9421-2f20f3048096"
      },
      "execution_count": 29,
      "outputs": [
        {
          "output_type": "stream",
          "name": "stdout",
          "text": [
            "Predicted Rating (Method.USER-based):  2.5\n",
            "Predicted Rating (Method.ITEM-based):  2.447599500269561\n"
          ]
        }
      ]
    },
    {
      "cell_type": "code",
      "source": [],
      "metadata": {
        "id": "z7A3oprrBXJQ"
      },
      "execution_count": null,
      "outputs": []
    }
  ]
}